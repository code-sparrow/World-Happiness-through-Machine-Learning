{
 "cells": [
  {
   "cell_type": "markdown",
   "metadata": {},
   "source": [
    "# Importing Libraries"
   ]
  },
  {
   "cell_type": "code",
   "execution_count": 1,
   "metadata": {},
   "outputs": [],
   "source": [
    "import numpy as np\n",
    "import pandas as pd\n",
    "import seaborn as sns\n",
    "import matplotlib.pyplot as plt\n",
    "import statsmodels.api as sm\n",
    "from pylab import savefig\n",
    "\n",
    "np.random.seed(42)"
   ]
  },
  {
   "cell_type": "markdown",
   "metadata": {},
   "source": [
    "# Loading Datasets"
   ]
  },
  {
   "cell_type": "markdown",
   "metadata": {},
   "source": [
    "### Training Set"
   ]
  },
  {
   "cell_type": "code",
   "execution_count": 2,
   "metadata": {},
   "outputs": [
    {
     "data": {
      "text/html": [
       "<div>\n",
       "<style scoped>\n",
       "    .dataframe tbody tr th:only-of-type {\n",
       "        vertical-align: middle;\n",
       "    }\n",
       "\n",
       "    .dataframe tbody tr th {\n",
       "        vertical-align: top;\n",
       "    }\n",
       "\n",
       "    .dataframe thead th {\n",
       "        text-align: right;\n",
       "    }\n",
       "</style>\n",
       "<table border=\"1\" class=\"dataframe\">\n",
       "  <thead>\n",
       "    <tr style=\"text-align: right;\">\n",
       "      <th></th>\n",
       "      <th>Country</th>\n",
       "      <th>Year</th>\n",
       "      <th>Ladder</th>\n",
       "      <th>GDP</th>\n",
       "      <th>Support</th>\n",
       "      <th>Health</th>\n",
       "      <th>Freedom</th>\n",
       "      <th>Generosity</th>\n",
       "      <th>Corruption</th>\n",
       "    </tr>\n",
       "  </thead>\n",
       "  <tbody>\n",
       "    <tr>\n",
       "      <th>0</th>\n",
       "      <td>Afghanistan</td>\n",
       "      <td>2008</td>\n",
       "      <td>3.723590</td>\n",
       "      <td>7.144916</td>\n",
       "      <td>0.450662</td>\n",
       "      <td>50.799999</td>\n",
       "      <td>0.718114</td>\n",
       "      <td>0.178993</td>\n",
       "      <td>0.881686</td>\n",
       "    </tr>\n",
       "    <tr>\n",
       "      <th>1</th>\n",
       "      <td>Afghanistan</td>\n",
       "      <td>2009</td>\n",
       "      <td>4.401778</td>\n",
       "      <td>7.314788</td>\n",
       "      <td>0.552308</td>\n",
       "      <td>51.200001</td>\n",
       "      <td>0.678896</td>\n",
       "      <td>0.201228</td>\n",
       "      <td>0.850035</td>\n",
       "    </tr>\n",
       "    <tr>\n",
       "      <th>2</th>\n",
       "      <td>Afghanistan</td>\n",
       "      <td>2010</td>\n",
       "      <td>4.758381</td>\n",
       "      <td>7.421525</td>\n",
       "      <td>0.539075</td>\n",
       "      <td>51.599998</td>\n",
       "      <td>0.600127</td>\n",
       "      <td>0.131578</td>\n",
       "      <td>0.706766</td>\n",
       "    </tr>\n",
       "    <tr>\n",
       "      <th>3</th>\n",
       "      <td>Afghanistan</td>\n",
       "      <td>2011</td>\n",
       "      <td>3.831719</td>\n",
       "      <td>7.394349</td>\n",
       "      <td>0.521104</td>\n",
       "      <td>51.919998</td>\n",
       "      <td>0.495901</td>\n",
       "      <td>0.173452</td>\n",
       "      <td>0.731109</td>\n",
       "    </tr>\n",
       "    <tr>\n",
       "      <th>4</th>\n",
       "      <td>Afghanistan</td>\n",
       "      <td>2012</td>\n",
       "      <td>3.782938</td>\n",
       "      <td>7.480296</td>\n",
       "      <td>0.520637</td>\n",
       "      <td>52.240002</td>\n",
       "      <td>0.530935</td>\n",
       "      <td>0.246943</td>\n",
       "      <td>0.775620</td>\n",
       "    </tr>\n",
       "  </tbody>\n",
       "</table>\n",
       "</div>"
      ],
      "text/plain": [
       "       Country  Year    Ladder       GDP   Support     Health   Freedom  \\\n",
       "0  Afghanistan  2008  3.723590  7.144916  0.450662  50.799999  0.718114   \n",
       "1  Afghanistan  2009  4.401778  7.314788  0.552308  51.200001  0.678896   \n",
       "2  Afghanistan  2010  4.758381  7.421525  0.539075  51.599998  0.600127   \n",
       "3  Afghanistan  2011  3.831719  7.394349  0.521104  51.919998  0.495901   \n",
       "4  Afghanistan  2012  3.782938  7.480296  0.520637  52.240002  0.530935   \n",
       "\n",
       "   Generosity  Corruption  \n",
       "0    0.178993    0.881686  \n",
       "1    0.201228    0.850035  \n",
       "2    0.131578    0.706766  \n",
       "3    0.173452    0.731109  \n",
       "4    0.246943    0.775620  "
      ]
     },
     "execution_count": 2,
     "metadata": {},
     "output_type": "execute_result"
    }
   ],
   "source": [
    "df_train = pd.read_csv('resources/train.csv')\n",
    "df_train.head()"
   ]
  },
  {
   "cell_type": "markdown",
   "metadata": {},
   "source": [
    "### Test Set"
   ]
  },
  {
   "cell_type": "code",
   "execution_count": 3,
   "metadata": {},
   "outputs": [
    {
     "data": {
      "text/html": [
       "<div>\n",
       "<style scoped>\n",
       "    .dataframe tbody tr th:only-of-type {\n",
       "        vertical-align: middle;\n",
       "    }\n",
       "\n",
       "    .dataframe tbody tr th {\n",
       "        vertical-align: top;\n",
       "    }\n",
       "\n",
       "    .dataframe thead th {\n",
       "        text-align: right;\n",
       "    }\n",
       "</style>\n",
       "<table border=\"1\" class=\"dataframe\">\n",
       "  <thead>\n",
       "    <tr style=\"text-align: right;\">\n",
       "      <th></th>\n",
       "      <th>Country</th>\n",
       "      <th>Region</th>\n",
       "      <th>Ladder</th>\n",
       "      <th>GDP</th>\n",
       "      <th>Support</th>\n",
       "      <th>Health</th>\n",
       "      <th>Freedom</th>\n",
       "      <th>Generosity</th>\n",
       "      <th>Corruption</th>\n",
       "    </tr>\n",
       "  </thead>\n",
       "  <tbody>\n",
       "    <tr>\n",
       "      <th>0</th>\n",
       "      <td>Finland</td>\n",
       "      <td>Western Europe</td>\n",
       "      <td>7.8087</td>\n",
       "      <td>10.639267</td>\n",
       "      <td>0.954330</td>\n",
       "      <td>71.900826</td>\n",
       "      <td>0.949172</td>\n",
       "      <td>-0.059482</td>\n",
       "      <td>0.195445</td>\n",
       "    </tr>\n",
       "    <tr>\n",
       "      <th>1</th>\n",
       "      <td>Denmark</td>\n",
       "      <td>Western Europe</td>\n",
       "      <td>7.6456</td>\n",
       "      <td>10.774001</td>\n",
       "      <td>0.955991</td>\n",
       "      <td>72.402504</td>\n",
       "      <td>0.951444</td>\n",
       "      <td>0.066202</td>\n",
       "      <td>0.168489</td>\n",
       "    </tr>\n",
       "    <tr>\n",
       "      <th>2</th>\n",
       "      <td>Switzerland</td>\n",
       "      <td>Western Europe</td>\n",
       "      <td>7.5599</td>\n",
       "      <td>10.979933</td>\n",
       "      <td>0.942847</td>\n",
       "      <td>74.102448</td>\n",
       "      <td>0.921337</td>\n",
       "      <td>0.105911</td>\n",
       "      <td>0.303728</td>\n",
       "    </tr>\n",
       "    <tr>\n",
       "      <th>3</th>\n",
       "      <td>Iceland</td>\n",
       "      <td>Western Europe</td>\n",
       "      <td>7.5045</td>\n",
       "      <td>10.772559</td>\n",
       "      <td>0.974670</td>\n",
       "      <td>73.000000</td>\n",
       "      <td>0.948892</td>\n",
       "      <td>0.246944</td>\n",
       "      <td>0.711710</td>\n",
       "    </tr>\n",
       "    <tr>\n",
       "      <th>4</th>\n",
       "      <td>Norway</td>\n",
       "      <td>Western Europe</td>\n",
       "      <td>7.4880</td>\n",
       "      <td>11.087804</td>\n",
       "      <td>0.952487</td>\n",
       "      <td>73.200783</td>\n",
       "      <td>0.955750</td>\n",
       "      <td>0.134533</td>\n",
       "      <td>0.263218</td>\n",
       "    </tr>\n",
       "  </tbody>\n",
       "</table>\n",
       "</div>"
      ],
      "text/plain": [
       "       Country          Region  Ladder        GDP   Support     Health  \\\n",
       "0      Finland  Western Europe  7.8087  10.639267  0.954330  71.900826   \n",
       "1      Denmark  Western Europe  7.6456  10.774001  0.955991  72.402504   \n",
       "2  Switzerland  Western Europe  7.5599  10.979933  0.942847  74.102448   \n",
       "3      Iceland  Western Europe  7.5045  10.772559  0.974670  73.000000   \n",
       "4       Norway  Western Europe  7.4880  11.087804  0.952487  73.200783   \n",
       "\n",
       "    Freedom  Generosity  Corruption  \n",
       "0  0.949172   -0.059482    0.195445  \n",
       "1  0.951444    0.066202    0.168489  \n",
       "2  0.921337    0.105911    0.303728  \n",
       "3  0.948892    0.246944    0.711710  \n",
       "4  0.955750    0.134533    0.263218  "
      ]
     },
     "execution_count": 3,
     "metadata": {},
     "output_type": "execute_result"
    }
   ],
   "source": [
    "df_test = pd.read_csv('resources/test.csv')\n",
    "df_test.head()"
   ]
  },
  {
   "cell_type": "markdown",
   "metadata": {},
   "source": [
    "# Feature Selection based on Correlation"
   ]
  },
  {
   "cell_type": "markdown",
   "metadata": {},
   "source": [
    "### Correlation Matrix"
   ]
  },
  {
   "cell_type": "code",
   "execution_count": 4,
   "metadata": {},
   "outputs": [
    {
     "data": {
      "text/html": [
       "<div>\n",
       "<style scoped>\n",
       "    .dataframe tbody tr th:only-of-type {\n",
       "        vertical-align: middle;\n",
       "    }\n",
       "\n",
       "    .dataframe tbody tr th {\n",
       "        vertical-align: top;\n",
       "    }\n",
       "\n",
       "    .dataframe thead th {\n",
       "        text-align: right;\n",
       "    }\n",
       "</style>\n",
       "<table border=\"1\" class=\"dataframe\">\n",
       "  <thead>\n",
       "    <tr style=\"text-align: right;\">\n",
       "      <th></th>\n",
       "      <th>Year</th>\n",
       "      <th>Ladder</th>\n",
       "      <th>GDP</th>\n",
       "      <th>Support</th>\n",
       "      <th>Health</th>\n",
       "      <th>Freedom</th>\n",
       "      <th>Generosity</th>\n",
       "      <th>Corruption</th>\n",
       "    </tr>\n",
       "  </thead>\n",
       "  <tbody>\n",
       "    <tr>\n",
       "      <th>Year</th>\n",
       "      <td>1.000000</td>\n",
       "      <td>0.029163</td>\n",
       "      <td>0.062659</td>\n",
       "      <td>-0.019373</td>\n",
       "      <td>0.150330</td>\n",
       "      <td>0.218226</td>\n",
       "      <td>-0.036480</td>\n",
       "      <td>-0.087785</td>\n",
       "    </tr>\n",
       "    <tr>\n",
       "      <th>Ladder</th>\n",
       "      <td>0.029163</td>\n",
       "      <td>1.000000</td>\n",
       "      <td>0.779501</td>\n",
       "      <td>0.710214</td>\n",
       "      <td>0.750692</td>\n",
       "      <td>0.521902</td>\n",
       "      <td>0.190646</td>\n",
       "      <td>-0.441650</td>\n",
       "    </tr>\n",
       "    <tr>\n",
       "      <th>GDP</th>\n",
       "      <td>0.062659</td>\n",
       "      <td>0.779501</td>\n",
       "      <td>1.000000</td>\n",
       "      <td>0.692312</td>\n",
       "      <td>0.843902</td>\n",
       "      <td>0.346521</td>\n",
       "      <td>-0.021038</td>\n",
       "      <td>-0.339023</td>\n",
       "    </tr>\n",
       "    <tr>\n",
       "      <th>Support</th>\n",
       "      <td>-0.019373</td>\n",
       "      <td>0.710214</td>\n",
       "      <td>0.692312</td>\n",
       "      <td>1.000000</td>\n",
       "      <td>0.613505</td>\n",
       "      <td>0.412240</td>\n",
       "      <td>0.056283</td>\n",
       "      <td>-0.219433</td>\n",
       "    </tr>\n",
       "    <tr>\n",
       "      <th>Health</th>\n",
       "      <td>0.150330</td>\n",
       "      <td>0.750692</td>\n",
       "      <td>0.843902</td>\n",
       "      <td>0.613505</td>\n",
       "      <td>1.000000</td>\n",
       "      <td>0.375106</td>\n",
       "      <td>0.027854</td>\n",
       "      <td>-0.326490</td>\n",
       "    </tr>\n",
       "    <tr>\n",
       "      <th>Freedom</th>\n",
       "      <td>0.218226</td>\n",
       "      <td>0.521902</td>\n",
       "      <td>0.346521</td>\n",
       "      <td>0.412240</td>\n",
       "      <td>0.375106</td>\n",
       "      <td>1.000000</td>\n",
       "      <td>0.332619</td>\n",
       "      <td>-0.485419</td>\n",
       "    </tr>\n",
       "    <tr>\n",
       "      <th>Generosity</th>\n",
       "      <td>-0.036480</td>\n",
       "      <td>0.190646</td>\n",
       "      <td>-0.021038</td>\n",
       "      <td>0.056283</td>\n",
       "      <td>0.027854</td>\n",
       "      <td>0.332619</td>\n",
       "      <td>1.000000</td>\n",
       "      <td>-0.295570</td>\n",
       "    </tr>\n",
       "    <tr>\n",
       "      <th>Corruption</th>\n",
       "      <td>-0.087785</td>\n",
       "      <td>-0.441650</td>\n",
       "      <td>-0.339023</td>\n",
       "      <td>-0.219433</td>\n",
       "      <td>-0.326490</td>\n",
       "      <td>-0.485419</td>\n",
       "      <td>-0.295570</td>\n",
       "      <td>1.000000</td>\n",
       "    </tr>\n",
       "  </tbody>\n",
       "</table>\n",
       "</div>"
      ],
      "text/plain": [
       "                Year    Ladder       GDP   Support    Health   Freedom  \\\n",
       "Year        1.000000  0.029163  0.062659 -0.019373  0.150330  0.218226   \n",
       "Ladder      0.029163  1.000000  0.779501  0.710214  0.750692  0.521902   \n",
       "GDP         0.062659  0.779501  1.000000  0.692312  0.843902  0.346521   \n",
       "Support    -0.019373  0.710214  0.692312  1.000000  0.613505  0.412240   \n",
       "Health      0.150330  0.750692  0.843902  0.613505  1.000000  0.375106   \n",
       "Freedom     0.218226  0.521902  0.346521  0.412240  0.375106  1.000000   \n",
       "Generosity -0.036480  0.190646 -0.021038  0.056283  0.027854  0.332619   \n",
       "Corruption -0.087785 -0.441650 -0.339023 -0.219433 -0.326490 -0.485419   \n",
       "\n",
       "            Generosity  Corruption  \n",
       "Year         -0.036480   -0.087785  \n",
       "Ladder        0.190646   -0.441650  \n",
       "GDP          -0.021038   -0.339023  \n",
       "Support       0.056283   -0.219433  \n",
       "Health        0.027854   -0.326490  \n",
       "Freedom       0.332619   -0.485419  \n",
       "Generosity    1.000000   -0.295570  \n",
       "Corruption   -0.295570    1.000000  "
      ]
     },
     "execution_count": 4,
     "metadata": {},
     "output_type": "execute_result"
    }
   ],
   "source": [
    "corr = df_train.corr()\n",
    "corr"
   ]
  },
  {
   "cell_type": "markdown",
   "metadata": {},
   "source": [
    "### Correlation Heatmap"
   ]
  },
  {
   "cell_type": "code",
   "execution_count": 5,
   "metadata": {},
   "outputs": [
    {
     "data": {
      "image/png": "[encoded data removed]",
      "text/plain": [
       "<Figure size 432x288 with 2 Axes>"
      ]
     },
     "metadata": {
      "needs_background": "light"
     },
     "output_type": "display_data"
    }
   ],
   "source": [
    "sns_plot = sns.heatmap(corr, cmap='coolwarm_r', linecolor='white', linewidths=0.2)\n",
    "figure = sns_plot.get_figure()\n",
    "figure.savefig(\"resources/heatmap.png\", dpi=400, bbox_inches='tight', pad_inches=0.6)"
   ]
  },
  {
   "cell_type": "markdown",
   "metadata": {},
   "source": [
    "* Strongest correlations with the target variable **Ladder** are **GDP**, **Support**, and **Health** (with **0.779501**, **0.710214**, and **0.750692**)  \n",
    "\n",
    "\n",
    "\n",
    "\n",
    "* A bit weaker correlated w/**Ladder** are **Freedom**, **Generosity**, and **Corruption** (with **0.521902**, **0.190646** and **-0.441650**)  \n",
    "\n",
    "\n",
    "\n",
    "\n",
    "* The highest correlation between features is between **GDP** and **Health** with **0.843902**  \n",
    "\n",
    "\n",
    "\n",
    "\n",
    "* No features have a correlation greater than 0.9, so no features will be dropped based on the correlation matrix  "
   ]
  },
  {
   "cell_type": "markdown",
   "metadata": {},
   "source": [
    "# Feature Selection based on p-value"
   ]
  },
  {
   "cell_type": "code",
   "execution_count": 10,
   "metadata": {},
   "outputs": [
    {
     "name": "stdout",
     "output_type": "stream",
     "text": [
      "[9.15466449e-25 2.77105665e-34 4.15675117e-44 2.54918906e-21\n",
      " 6.72509413e-16 1.75927559e-13 4.39126879e-12]\n",
      "--------------------------------------------------------\n",
      "                            OLS Regression Results                            \n",
      "==============================================================================\n",
      "Dep. Variable:                      y   R-squared:                       0.746\n",
      "Model:                            OLS   Adj. R-squared:                  0.745\n",
      "Method:                 Least Squares   F-statistic:                     792.5\n",
      "Date:                Thu, 26 Mar 2020   Prob (F-statistic):               0.00\n",
      "Time:                        16:48:30   Log-Likelihood:                -1409.9\n",
      "No. Observations:                1627   AIC:                             2834.\n",
      "Df Residuals:                    1620   BIC:                             2872.\n",
      "Df Model:                           6                                         \n",
      "Covariance Type:            nonrobust                                         \n",
      "==============================================================================\n",
      "                 coef    std err          t      P>|t|      [0.025      0.975]\n",
      "------------------------------------------------------------------------------\n",
      "const         -1.8864      0.181    -10.446      0.000      -2.241      -1.532\n",
      "x1             0.3209      0.026     12.498      0.000       0.271       0.371\n",
      "x2             2.4329      0.169     14.360      0.000       2.101       2.765\n",
      "x3             0.0337      0.004      9.614      0.000       0.027       0.041\n",
      "x4             1.0322      0.127      8.159      0.000       0.784       1.280\n",
      "x5             0.7157      0.096      7.429      0.000       0.527       0.905\n",
      "x6            -0.6548      0.094     -6.977      0.000      -0.839      -0.471\n",
      "==============================================================================\n",
      "Omnibus:                       26.051   Durbin-Watson:                   0.577\n",
      "Prob(Omnibus):                  0.000   Jarque-Bera (JB):               33.759\n",
      "Skew:                          -0.207   Prob(JB):                     4.67e-08\n",
      "Kurtosis:                       3.572   Cond. No.                         931.\n",
      "==============================================================================\n",
      "\n",
      "Warnings:\n",
      "[1] Standard Errors assume that the covariance matrix of the errors is correctly specified.\n",
      "--------------------------------------------------------\n"
     ]
    }
   ],
   "source": [
    "# Automated Backward Elimination with p-values only:\n",
    "def backwardElimination(x, y, sl):\n",
    "    numVars = len(x[0])\n",
    "    for i in range(0, numVars):\n",
    "        regressor_OLS = sm.OLS(y, x).fit()\n",
    "        maxVar = max(regressor_OLS.pvalues).astype(float)\n",
    "        if maxVar > sl:\n",
    "            for j in range(0, numVars - i):\n",
    "                if (regressor_OLS.pvalues[j].astype(float) == maxVar):\n",
    "                    x = np.delete(x, j, 1)\n",
    "    print(regressor_OLS.pvalues)\n",
    "    print('--------------------------------------------------------')\n",
    "    print(regressor_OLS.summary())\n",
    "    print('--------------------------------------------------------')\n",
    "    return x\n",
    "\n",
    "# Setting up training arrays of predictors and target\n",
    "X_train = df_train.iloc[:, 3:].values\n",
    "y_train = df_train.iloc[:, 2].values\n",
    "X_test = df_test.iloc[:, 3:].values\n",
    "y_test = df_test.iloc[:, 2].values\n",
    "\n",
    "# Need to add a column of ones at the beginning of X-array for the constant in the linear model\n",
    "X_train = np.append(arr = np.ones((len(y_train), 1)).astype(int), values = X_train, axis = 1)\n",
    "X_test = np.append(arr = np.ones((len(y_test), 1)).astype(int), values = X_test, axis = 1)\n",
    "\n",
    "# Setting significance level and function call\n",
    "SL = 0.05\n",
    "X_Modeled = backwardElimination(X_train, y_train, SL)"
   ]
  },
  {
   "cell_type": "markdown",
   "metadata": {},
   "source": [
    "* No p-values are greater than the significance level of 0.5  \n",
    "\n",
    "\n",
    "* All features will be kept"
   ]
  },
  {
   "cell_type": "code",
   "execution_count": 13,
   "metadata": {},
   "outputs": [
    {
     "name": "stdout",
     "output_type": "stream",
     "text": [
      "Train:  0.7458799441986448\n",
      "Test:  0.7358830694931894\n",
      "From Metrics:  0.7358830694931893\n",
      "Adjusted Test:  0.7268995004283317\n"
     ]
    }
   ],
   "source": [
    "from sklearn.linear_model import LinearRegression\n",
    "from sklearn.metrics import r2_score\n",
    "regressor = LinearRegression()\n",
    "choose = [1,2,3,4,5,6]\n",
    "n = len(y_test)\n",
    "k = len(choose)\n",
    "regressor.fit(X_train[:, choose], y_train)\n",
    "y_pred = regressor.predict(X_test[:, choose])\n",
    "R2 = r2_score(y_test, y_pred)\n",
    "print(\"Train: \", regressor.score(X_train[:, choose], y_train))\n",
    "print(\"Test: \", regressor.score(X_test[:, choose], y_test))\n",
    "print(\"From Metrics: \", R2)\n",
    "print(\"Adjusted Test: \", R2 - ((k - 1) / (n - k)) * (1 - R2))\n"
   ]
  },
  {
   "cell_type": "code",
   "execution_count": 14,
   "metadata": {},
   "outputs": [
    {
     "name": "stdout",
     "output_type": "stream",
     "text": [
      "Train:  0.7372221559800367\n",
      "Test:  0.7306719485073316\n",
      "From Metrics:  0.7306719485073316\n",
      "Adjusted Test:  0.7233928119805028\n"
     ]
    }
   ],
   "source": [
    "# Remove 5 Generosity\n",
    "from sklearn.linear_model import LinearRegression\n",
    "from sklearn.metrics import r2_score\n",
    "regressor = LinearRegression()\n",
    "choose = [1,2,3,4,6]\n",
    "n = len(y_test)\n",
    "k = len(choose)\n",
    "regressor.fit(X_train[:, choose], y_train)\n",
    "y_pred = regressor.predict(X_test[:, choose])\n",
    "R2 = r2_score(y_test, y_pred)\n",
    "print(\"Train: \", regressor.score(X_train[:, choose], y_train))\n",
    "print(\"Test: \", regressor.score(X_test[:, choose], y_test))\n",
    "print(\"From Metrics: \", R2)\n",
    "print(\"Adjusted Test: \", R2 - ((k - 1) / (n - k)) * (1 - R2))"
   ]
  },
  {
   "cell_type": "code",
   "execution_count": 15,
   "metadata": {},
   "outputs": [
    {
     "name": "stdout",
     "output_type": "stream",
     "text": [
      "Train:  0.7254106535821597\n",
      "Test:  0.7191898820435914\n",
      "From Metrics:  0.7191898820435914\n",
      "Adjusted Test:  0.7135359870511805\n"
     ]
    }
   ],
   "source": [
    "# Remove 6 Corruption\n",
    "from sklearn.linear_model import LinearRegression\n",
    "from sklearn.metrics import r2_score\n",
    "regressor = LinearRegression()\n",
    "choose = [1,2,3,4]\n",
    "n = len(y_test)\n",
    "k = len(choose)\n",
    "regressor.fit(X_train[:, choose], y_train)\n",
    "y_pred = regressor.predict(X_test[:, choose])\n",
    "R2 = r2_score(y_test, y_pred)\n",
    "print(\"Train: \", regressor.score(X_train[:, choose], y_train))\n",
    "print(\"Test: \", regressor.score(X_test[:, choose], y_test))\n",
    "print(\"From Metrics: \", R2)\n",
    "print(\"Adjusted Test: \", R2 - ((k - 1) / (n - k)) * (1 - R2))"
   ]
  },
  {
   "cell_type": "code",
   "execution_count": 16,
   "metadata": {},
   "outputs": [
    {
     "name": "stdout",
     "output_type": "stream",
     "text": [
      "Train:  0.687724371260661\n",
      "Test:  0.686471000947932\n",
      "From Metrics:  0.686471000947932\n",
      "Adjusted Test:  0.6822906142939045\n"
     ]
    }
   ],
   "source": [
    "# Remove 4 Freedom\n",
    "from sklearn.linear_model import LinearRegression\n",
    "from sklearn.metrics import r2_score\n",
    "regressor = LinearRegression()\n",
    "choose = [1,2,3]\n",
    "n = len(y_test)\n",
    "k = len(choose)\n",
    "regressor.fit(X_train[:, choose], y_train)\n",
    "y_pred = regressor.predict(X_test[:, choose])\n",
    "R2 = r2_score(y_test, y_pred)\n",
    "print(\"Train: \", regressor.score(X_train[:, choose], y_train))\n",
    "print(\"Test: \", regressor.score(X_test[:, choose], y_test))\n",
    "print(\"From Metrics: \", R2)\n",
    "print(\"Adjusted Test: \", R2 - ((k - 1) / (n - k)) * (1 - R2))"
   ]
  },
  {
   "cell_type": "code",
   "execution_count": 17,
   "metadata": {},
   "outputs": [
    {
     "name": "stdout",
     "output_type": "stream",
     "text": [
      "Train:  0.6375863636211276\n",
      "Test:  0.6397060378325111\n",
      "From Metrics:  0.6397060378325111\n",
      "Adjusted Test:  0.6373199851029251\n"
     ]
    }
   ],
   "source": [
    "# Remove 2 Support\n",
    "from sklearn.linear_model import LinearRegression\n",
    "from sklearn.metrics import r2_score\n",
    "regressor = LinearRegression()\n",
    "choose = [1,3]\n",
    "n = len(y_test)\n",
    "k = len(choose)\n",
    "regressor.fit(X_train[:, choose], y_train)\n",
    "y_pred = regressor.predict(X_test[:, choose])\n",
    "R2 = r2_score(y_test, y_pred)\n",
    "print(\"Train: \", regressor.score(X_train[:, choose], y_train))\n",
    "print(\"Test: \", regressor.score(X_test[:, choose], y_test))\n",
    "print(\"From Metrics: \", R2)\n",
    "print(\"Adjusted Test: \", R2 - ((k - 1) / (n - k)) * (1 - R2))"
   ]
  },
  {
   "cell_type": "code",
   "execution_count": 24,
   "metadata": {},
   "outputs": [
    {
     "name": "stdout",
     "output_type": "stream",
     "text": [
      "Train:  0.7382448697185999\n",
      "Test:  0.7291526767595816\n",
      "From Metrics:  0.7291526767595816\n",
      "Adjusted Test:  0.7218324788341649\n"
     ]
    }
   ],
   "source": [
    "\n",
    "from sklearn.linear_model import LinearRegression\n",
    "from sklearn.metrics import r2_score\n",
    "regressor = LinearRegression()\n",
    "choose = [1,2,3,4,5]\n",
    "n = len(y_test)\n",
    "k = len(choose)\n",
    "regressor.fit(X_train[:, choose], y_train)\n",
    "y_pred = regressor.predict(X_test[:, choose])\n",
    "R2 = r2_score(y_test, y_pred)\n",
    "print(\"Train: \", regressor.score(X_train[:, choose], y_train))\n",
    "print(\"Test: \", regressor.score(X_test[:, choose], y_test))\n",
    "print(\"From Metrics: \", R2)\n",
    "print(\"Adjusted Test: \", R2 - ((k - 1) / (n - k)) * (1 - R2))\n",
    "# (All) Adjusted Test:  0.7268995004283317 (0.727)\n",
    "# (No GDP) Adjusted Test:  0.7138807532187827 (0.714)\n",
    "# (No Support) Adjusted Test:  0.6912753646493122 (0.691)\n",
    "# (No Health) Adjusted Test:  0.7142154927279709 (0.714)\n",
    "# (No Freedom) Adjusted Test:  0.7145171423962183 (0.715)\n",
    "# (No Generosity) Adjusted Test:  0.7233928119805028 (0.723)\n",
    "# (No Corruption) Adjusted Test:  0.7218324788341649 (0.722)"
   ]
  }
 ],
 "metadata": {
  "kernelspec": {
   "display_name": "Python 3",
   "language": "python",
   "name": "python3"
  },
  "language_info": {
   "codemirror_mode": {
    "name": "ipython",
    "version": 3
   },
   "file_extension": ".py",
   "mimetype": "text/x-python",
   "name": "python",
   "nbconvert_exporter": "python",
   "pygments_lexer": "ipython3",
   "version": "3.7.3"
  }
 },
 "nbformat": 4,
 "nbformat_minor": 4
}
