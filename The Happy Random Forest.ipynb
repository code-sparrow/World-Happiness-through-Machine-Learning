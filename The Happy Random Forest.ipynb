{
 "cells": [
  {
   "cell_type": "code",
   "execution_count": 1,
   "metadata": {},
   "outputs": [],
   "source": [
    "#import dependencies\n",
    "from sklearn.ensemble import RandomForestClassifier\n",
    "import pandas as pd\n"
   ]
  },
  {
   "cell_type": "code",
   "execution_count": 2,
   "metadata": {},
   "outputs": [
    {
     "data": {
      "text/html": [
       "<div>\n",
       "<style scoped>\n",
       "    .dataframe tbody tr th:only-of-type {\n",
       "        vertical-align: middle;\n",
       "    }\n",
       "\n",
       "    .dataframe tbody tr th {\n",
       "        vertical-align: top;\n",
       "    }\n",
       "\n",
       "    .dataframe thead th {\n",
       "        text-align: right;\n",
       "    }\n",
       "</style>\n",
       "<table border=\"1\" class=\"dataframe\">\n",
       "  <thead>\n",
       "    <tr style=\"text-align: right;\">\n",
       "      <th></th>\n",
       "      <th>Ladder</th>\n",
       "      <th>GDP</th>\n",
       "      <th>Support</th>\n",
       "      <th>Health</th>\n",
       "      <th>Freedom</th>\n",
       "      <th>Generosity</th>\n",
       "      <th>Corruption</th>\n",
       "    </tr>\n",
       "  </thead>\n",
       "  <tbody>\n",
       "    <tr>\n",
       "      <td>0</td>\n",
       "      <td>3.723590</td>\n",
       "      <td>7.144916</td>\n",
       "      <td>0.450662</td>\n",
       "      <td>50.799999</td>\n",
       "      <td>0.718114</td>\n",
       "      <td>0.178993</td>\n",
       "      <td>0.881686</td>\n",
       "    </tr>\n",
       "    <tr>\n",
       "      <td>1</td>\n",
       "      <td>4.401778</td>\n",
       "      <td>7.314788</td>\n",
       "      <td>0.552308</td>\n",
       "      <td>51.200001</td>\n",
       "      <td>0.678896</td>\n",
       "      <td>0.201228</td>\n",
       "      <td>0.850035</td>\n",
       "    </tr>\n",
       "    <tr>\n",
       "      <td>2</td>\n",
       "      <td>4.758381</td>\n",
       "      <td>7.421525</td>\n",
       "      <td>0.539075</td>\n",
       "      <td>51.599998</td>\n",
       "      <td>0.600127</td>\n",
       "      <td>0.131578</td>\n",
       "      <td>0.706766</td>\n",
       "    </tr>\n",
       "    <tr>\n",
       "      <td>3</td>\n",
       "      <td>3.831719</td>\n",
       "      <td>7.394349</td>\n",
       "      <td>0.521104</td>\n",
       "      <td>51.919998</td>\n",
       "      <td>0.495901</td>\n",
       "      <td>0.173452</td>\n",
       "      <td>0.731109</td>\n",
       "    </tr>\n",
       "    <tr>\n",
       "      <td>4</td>\n",
       "      <td>3.782938</td>\n",
       "      <td>7.480296</td>\n",
       "      <td>0.520637</td>\n",
       "      <td>52.240002</td>\n",
       "      <td>0.530935</td>\n",
       "      <td>0.246943</td>\n",
       "      <td>0.775620</td>\n",
       "    </tr>\n",
       "    <tr>\n",
       "      <td>5</td>\n",
       "      <td>3.572100</td>\n",
       "      <td>7.499845</td>\n",
       "      <td>0.483552</td>\n",
       "      <td>52.560001</td>\n",
       "      <td>0.577955</td>\n",
       "      <td>0.072033</td>\n",
       "      <td>0.823204</td>\n",
       "    </tr>\n",
       "    <tr>\n",
       "      <td>6</td>\n",
       "      <td>3.130896</td>\n",
       "      <td>7.493170</td>\n",
       "      <td>0.525568</td>\n",
       "      <td>52.880001</td>\n",
       "      <td>0.508514</td>\n",
       "      <td>0.114906</td>\n",
       "      <td>0.871242</td>\n",
       "    </tr>\n",
       "    <tr>\n",
       "      <td>7</td>\n",
       "      <td>3.982855</td>\n",
       "      <td>7.476808</td>\n",
       "      <td>0.528597</td>\n",
       "      <td>53.200001</td>\n",
       "      <td>0.388928</td>\n",
       "      <td>0.090780</td>\n",
       "      <td>0.880638</td>\n",
       "    </tr>\n",
       "    <tr>\n",
       "      <td>8</td>\n",
       "      <td>4.220169</td>\n",
       "      <td>7.471376</td>\n",
       "      <td>0.559072</td>\n",
       "      <td>53.000000</td>\n",
       "      <td>0.522566</td>\n",
       "      <td>0.053188</td>\n",
       "      <td>0.793246</td>\n",
       "    </tr>\n",
       "    <tr>\n",
       "      <td>9</td>\n",
       "      <td>2.661718</td>\n",
       "      <td>7.472197</td>\n",
       "      <td>0.490880</td>\n",
       "      <td>52.799999</td>\n",
       "      <td>0.427011</td>\n",
       "      <td>-0.110382</td>\n",
       "      <td>0.954393</td>\n",
       "    </tr>\n",
       "    <tr>\n",
       "      <td>10</td>\n",
       "      <td>2.694303</td>\n",
       "      <td>7.458603</td>\n",
       "      <td>0.507516</td>\n",
       "      <td>52.599998</td>\n",
       "      <td>0.373536</td>\n",
       "      <td>-0.082319</td>\n",
       "      <td>0.927606</td>\n",
       "    </tr>\n",
       "    <tr>\n",
       "      <td>11</td>\n",
       "      <td>2.375092</td>\n",
       "      <td>7.458469</td>\n",
       "      <td>0.419973</td>\n",
       "      <td>52.400002</td>\n",
       "      <td>0.393656</td>\n",
       "      <td>-0.096549</td>\n",
       "      <td>0.923849</td>\n",
       "    </tr>\n",
       "    <tr>\n",
       "      <td>12</td>\n",
       "      <td>4.634252</td>\n",
       "      <td>9.042030</td>\n",
       "      <td>0.821372</td>\n",
       "      <td>65.800003</td>\n",
       "      <td>0.528605</td>\n",
       "      <td>-0.009072</td>\n",
       "      <td>0.874700</td>\n",
       "    </tr>\n",
       "    <tr>\n",
       "      <td>13</td>\n",
       "      <td>5.485470</td>\n",
       "      <td>9.161715</td>\n",
       "      <td>0.833047</td>\n",
       "      <td>66.199997</td>\n",
       "      <td>0.525223</td>\n",
       "      <td>-0.157956</td>\n",
       "      <td>0.863665</td>\n",
       "    </tr>\n",
       "    <tr>\n",
       "      <td>14</td>\n",
       "      <td>5.268937</td>\n",
       "      <td>9.203077</td>\n",
       "      <td>0.733152</td>\n",
       "      <td>66.400002</td>\n",
       "      <td>0.568958</td>\n",
       "      <td>-0.172392</td>\n",
       "      <td>0.726262</td>\n",
       "    </tr>\n",
       "    <tr>\n",
       "      <td>15</td>\n",
       "      <td>5.867422</td>\n",
       "      <td>9.230903</td>\n",
       "      <td>0.759434</td>\n",
       "      <td>66.680000</td>\n",
       "      <td>0.487496</td>\n",
       "      <td>-0.204916</td>\n",
       "      <td>0.877003</td>\n",
       "    </tr>\n",
       "    <tr>\n",
       "      <td>16</td>\n",
       "      <td>5.510124</td>\n",
       "      <td>9.246630</td>\n",
       "      <td>0.784502</td>\n",
       "      <td>66.959999</td>\n",
       "      <td>0.601512</td>\n",
       "      <td>-0.169205</td>\n",
       "      <td>0.847675</td>\n",
       "    </tr>\n",
       "    <tr>\n",
       "      <td>17</td>\n",
       "      <td>4.550648</td>\n",
       "      <td>9.258432</td>\n",
       "      <td>0.759477</td>\n",
       "      <td>67.239998</td>\n",
       "      <td>0.631830</td>\n",
       "      <td>-0.127568</td>\n",
       "      <td>0.862905</td>\n",
       "    </tr>\n",
       "    <tr>\n",
       "      <td>18</td>\n",
       "      <td>4.813763</td>\n",
       "      <td>9.278048</td>\n",
       "      <td>0.625587</td>\n",
       "      <td>67.519997</td>\n",
       "      <td>0.734648</td>\n",
       "      <td>-0.025046</td>\n",
       "      <td>0.882704</td>\n",
       "    </tr>\n",
       "    <tr>\n",
       "      <td>19</td>\n",
       "      <td>4.606651</td>\n",
       "      <td>9.303015</td>\n",
       "      <td>0.639356</td>\n",
       "      <td>67.800003</td>\n",
       "      <td>0.703851</td>\n",
       "      <td>-0.081260</td>\n",
       "      <td>0.884793</td>\n",
       "    </tr>\n",
       "    <tr>\n",
       "      <td>20</td>\n",
       "      <td>4.511101</td>\n",
       "      <td>9.337564</td>\n",
       "      <td>0.638411</td>\n",
       "      <td>68.099998</td>\n",
       "      <td>0.729819</td>\n",
       "      <td>-0.017473</td>\n",
       "      <td>0.901071</td>\n",
       "    </tr>\n",
       "    <tr>\n",
       "      <td>21</td>\n",
       "      <td>4.639548</td>\n",
       "      <td>9.376133</td>\n",
       "      <td>0.637698</td>\n",
       "      <td>68.400002</td>\n",
       "      <td>0.749611</td>\n",
       "      <td>-0.029357</td>\n",
       "      <td>0.876135</td>\n",
       "    </tr>\n",
       "    <tr>\n",
       "      <td>22</td>\n",
       "      <td>5.004403</td>\n",
       "      <td>9.417863</td>\n",
       "      <td>0.683592</td>\n",
       "      <td>68.699997</td>\n",
       "      <td>0.824212</td>\n",
       "      <td>0.008337</td>\n",
       "      <td>0.899129</td>\n",
       "    </tr>\n",
       "    <tr>\n",
       "      <td>23</td>\n",
       "      <td>4.995318</td>\n",
       "      <td>9.456569</td>\n",
       "      <td>0.686365</td>\n",
       "      <td>69.000000</td>\n",
       "      <td>0.777351</td>\n",
       "      <td>-0.100784</td>\n",
       "      <td>0.914284</td>\n",
       "    </tr>\n",
       "    <tr>\n",
       "      <td>24</td>\n",
       "      <td>5.317194</td>\n",
       "      <td>9.476265</td>\n",
       "      <td>0.810234</td>\n",
       "      <td>64.660004</td>\n",
       "      <td>0.529561</td>\n",
       "      <td>-0.201264</td>\n",
       "      <td>0.637982</td>\n",
       "    </tr>\n",
       "  </tbody>\n",
       "</table>\n",
       "</div>"
      ],
      "text/plain": [
       "      Ladder       GDP   Support     Health   Freedom  Generosity  Corruption\n",
       "0   3.723590  7.144916  0.450662  50.799999  0.718114    0.178993    0.881686\n",
       "1   4.401778  7.314788  0.552308  51.200001  0.678896    0.201228    0.850035\n",
       "2   4.758381  7.421525  0.539075  51.599998  0.600127    0.131578    0.706766\n",
       "3   3.831719  7.394349  0.521104  51.919998  0.495901    0.173452    0.731109\n",
       "4   3.782938  7.480296  0.520637  52.240002  0.530935    0.246943    0.775620\n",
       "5   3.572100  7.499845  0.483552  52.560001  0.577955    0.072033    0.823204\n",
       "6   3.130896  7.493170  0.525568  52.880001  0.508514    0.114906    0.871242\n",
       "7   3.982855  7.476808  0.528597  53.200001  0.388928    0.090780    0.880638\n",
       "8   4.220169  7.471376  0.559072  53.000000  0.522566    0.053188    0.793246\n",
       "9   2.661718  7.472197  0.490880  52.799999  0.427011   -0.110382    0.954393\n",
       "10  2.694303  7.458603  0.507516  52.599998  0.373536   -0.082319    0.927606\n",
       "11  2.375092  7.458469  0.419973  52.400002  0.393656   -0.096549    0.923849\n",
       "12  4.634252  9.042030  0.821372  65.800003  0.528605   -0.009072    0.874700\n",
       "13  5.485470  9.161715  0.833047  66.199997  0.525223   -0.157956    0.863665\n",
       "14  5.268937  9.203077  0.733152  66.400002  0.568958   -0.172392    0.726262\n",
       "15  5.867422  9.230903  0.759434  66.680000  0.487496   -0.204916    0.877003\n",
       "16  5.510124  9.246630  0.784502  66.959999  0.601512   -0.169205    0.847675\n",
       "17  4.550648  9.258432  0.759477  67.239998  0.631830   -0.127568    0.862905\n",
       "18  4.813763  9.278048  0.625587  67.519997  0.734648   -0.025046    0.882704\n",
       "19  4.606651  9.303015  0.639356  67.800003  0.703851   -0.081260    0.884793\n",
       "20  4.511101  9.337564  0.638411  68.099998  0.729819   -0.017473    0.901071\n",
       "21  4.639548  9.376133  0.637698  68.400002  0.749611   -0.029357    0.876135\n",
       "22  5.004403  9.417863  0.683592  68.699997  0.824212    0.008337    0.899129\n",
       "23  4.995318  9.456569  0.686365  69.000000  0.777351   -0.100784    0.914284\n",
       "24  5.317194  9.476265  0.810234  64.660004  0.529561   -0.201264    0.637982"
      ]
     },
     "execution_count": 2,
     "metadata": {},
     "output_type": "execute_result"
    }
   ],
   "source": [
    "#Read in data and display first 25 rows\n",
    "features = pd.read_csv(\"./Cleaned.csv\", usecols=['Ladder', 'GDP', 'Support', 'Health', 'Freedom', 'Generosity','Corruption'])\n",
    "features.head(25)"
   ]
  },
  {
   "cell_type": "code",
   "execution_count": 3,
   "metadata": {},
   "outputs": [
    {
     "name": "stdout",
     "output_type": "stream",
     "text": [
      "The shape of our features is: (1627, 7)\n"
     ]
    }
   ],
   "source": [
    "#Number of rows and columns of dataset\n",
    "print('The shape of our features is:', features.shape)"
   ]
  },
  {
   "cell_type": "code",
   "execution_count": 4,
   "metadata": {},
   "outputs": [
    {
     "data": {
      "text/html": [
       "<div>\n",
       "<style scoped>\n",
       "    .dataframe tbody tr th:only-of-type {\n",
       "        vertical-align: middle;\n",
       "    }\n",
       "\n",
       "    .dataframe tbody tr th {\n",
       "        vertical-align: top;\n",
       "    }\n",
       "\n",
       "    .dataframe thead th {\n",
       "        text-align: right;\n",
       "    }\n",
       "</style>\n",
       "<table border=\"1\" class=\"dataframe\">\n",
       "  <thead>\n",
       "    <tr style=\"text-align: right;\">\n",
       "      <th></th>\n",
       "      <th>Ladder</th>\n",
       "      <th>GDP</th>\n",
       "      <th>Support</th>\n",
       "      <th>Health</th>\n",
       "      <th>Freedom</th>\n",
       "      <th>Generosity</th>\n",
       "      <th>Corruption</th>\n",
       "    </tr>\n",
       "  </thead>\n",
       "  <tbody>\n",
       "    <tr>\n",
       "      <td>count</td>\n",
       "      <td>1627.000000</td>\n",
       "      <td>1627.000000</td>\n",
       "      <td>1627.000000</td>\n",
       "      <td>1627.000000</td>\n",
       "      <td>1627.000000</td>\n",
       "      <td>1627.000000</td>\n",
       "      <td>1627.000000</td>\n",
       "    </tr>\n",
       "    <tr>\n",
       "      <td>mean</td>\n",
       "      <td>5.414615</td>\n",
       "      <td>9.184053</td>\n",
       "      <td>0.807677</td>\n",
       "      <td>62.985019</td>\n",
       "      <td>0.734386</td>\n",
       "      <td>-0.000092</td>\n",
       "      <td>0.753488</td>\n",
       "    </tr>\n",
       "    <tr>\n",
       "      <td>std</td>\n",
       "      <td>1.142164</td>\n",
       "      <td>1.167318</td>\n",
       "      <td>0.122483</td>\n",
       "      <td>7.712987</td>\n",
       "      <td>0.143952</td>\n",
       "      <td>0.162850</td>\n",
       "      <td>0.184103</td>\n",
       "    </tr>\n",
       "    <tr>\n",
       "      <td>min</td>\n",
       "      <td>2.375092</td>\n",
       "      <td>6.456574</td>\n",
       "      <td>0.290184</td>\n",
       "      <td>32.299999</td>\n",
       "      <td>0.257534</td>\n",
       "      <td>-0.331775</td>\n",
       "      <td>0.035198</td>\n",
       "    </tr>\n",
       "    <tr>\n",
       "      <td>25%</td>\n",
       "      <td>4.561009</td>\n",
       "      <td>8.231128</td>\n",
       "      <td>0.739736</td>\n",
       "      <td>57.599998</td>\n",
       "      <td>0.639934</td>\n",
       "      <td>-0.114054</td>\n",
       "      <td>0.699170</td>\n",
       "    </tr>\n",
       "    <tr>\n",
       "      <td>50%</td>\n",
       "      <td>5.312483</td>\n",
       "      <td>9.372202</td>\n",
       "      <td>0.832254</td>\n",
       "      <td>65.000000</td>\n",
       "      <td>0.751168</td>\n",
       "      <td>-0.023358</td>\n",
       "      <td>0.806226</td>\n",
       "    </tr>\n",
       "    <tr>\n",
       "      <td>75%</td>\n",
       "      <td>6.235699</td>\n",
       "      <td>10.132307</td>\n",
       "      <td>0.905363</td>\n",
       "      <td>68.410000</td>\n",
       "      <td>0.849376</td>\n",
       "      <td>0.090260</td>\n",
       "      <td>0.875121</td>\n",
       "    </tr>\n",
       "    <tr>\n",
       "      <td>max</td>\n",
       "      <td>7.970892</td>\n",
       "      <td>11.630937</td>\n",
       "      <td>0.987343</td>\n",
       "      <td>76.800003</td>\n",
       "      <td>0.985178</td>\n",
       "      <td>0.671231</td>\n",
       "      <td>0.983276</td>\n",
       "    </tr>\n",
       "  </tbody>\n",
       "</table>\n",
       "</div>"
      ],
      "text/plain": [
       "            Ladder          GDP      Support       Health      Freedom  \\\n",
       "count  1627.000000  1627.000000  1627.000000  1627.000000  1627.000000   \n",
       "mean      5.414615     9.184053     0.807677    62.985019     0.734386   \n",
       "std       1.142164     1.167318     0.122483     7.712987     0.143952   \n",
       "min       2.375092     6.456574     0.290184    32.299999     0.257534   \n",
       "25%       4.561009     8.231128     0.739736    57.599998     0.639934   \n",
       "50%       5.312483     9.372202     0.832254    65.000000     0.751168   \n",
       "75%       6.235699    10.132307     0.905363    68.410000     0.849376   \n",
       "max       7.970892    11.630937     0.987343    76.800003     0.985178   \n",
       "\n",
       "        Generosity   Corruption  \n",
       "count  1627.000000  1627.000000  \n",
       "mean     -0.000092     0.753488  \n",
       "std       0.162850     0.184103  \n",
       "min      -0.331775     0.035198  \n",
       "25%      -0.114054     0.699170  \n",
       "50%      -0.023358     0.806226  \n",
       "75%       0.090260     0.875121  \n",
       "max       0.671231     0.983276  "
      ]
     },
     "execution_count": 4,
     "metadata": {},
     "output_type": "execute_result"
    }
   ],
   "source": [
    "#Descriptive statistics for each column\n",
    "features.describe()"
   ]
  },
  {
   "cell_type": "code",
   "execution_count": 5,
   "metadata": {},
   "outputs": [],
   "source": [
    "#Use numpy to convert to arrays\n",
    "import numpy as np"
   ]
  },
  {
   "cell_type": "code",
   "execution_count": 6,
   "metadata": {},
   "outputs": [],
   "source": [
    "#Labels are the values we want to predict\n",
    "labels = np.array(features[\"Ladder\"])\n",
    "#Remove the label from the features\n",
    "features = features.drop(\"Ladder\", axis= 1)\n",
    "\n",
    "#Saving feature names for later use\n",
    "feature_list = list(features.columns)\n",
    "#Convert to numpy array\n",
    "features = np.array(features)"
   ]
  },
  {
   "cell_type": "code",
   "execution_count": 7,
   "metadata": {},
   "outputs": [],
   "source": [
    "#Using Skicit-learn to split data into training and testing sets\n",
    "from sklearn.model_selection import train_test_split"
   ]
  },
  {
   "cell_type": "code",
   "execution_count": 8,
   "metadata": {},
   "outputs": [],
   "source": [
    "#Split the data into training and testing sets\n",
    "train_features, test_features, train_labels, test_labels = train_test_split(features, labels, test_size = 0.25, random_state = 42)"
   ]
  },
  {
   "cell_type": "code",
   "execution_count": 9,
   "metadata": {},
   "outputs": [
    {
     "name": "stdout",
     "output_type": "stream",
     "text": [
      "Training Features Shape: (1220, 6)\n",
      "Training Labels Shape: (1220,)\n",
      "Testing Features Shape: (407, 6)\n",
      "Testing Labels Shape: (407,)\n"
     ]
    }
   ],
   "source": [
    "print('Training Features Shape:', train_features.shape)\n",
    "print('Training Labels Shape:', train_labels.shape)\n",
    "print('Testing Features Shape:', test_features.shape)\n",
    "print('Testing Labels Shape:', test_labels.shape)"
   ]
  },
  {
   "cell_type": "code",
   "execution_count": 10,
   "metadata": {
    "scrolled": true
   },
   "outputs": [
    {
     "name": "stdout",
     "output_type": "stream",
     "text": [
      "Average baseline error: 3.7\n"
     ]
    }
   ],
   "source": [
    "#The baseline predictions are the historical averages\n",
    "baseline_predictions = test_features[:, feature_list.index('GDP')]\n",
    "#Baseline errors, and display average baseline error\n",
    "baseline_errors = abs(baseline_predictions - test_labels)\n",
    "print('Average baseline error:', round(np.mean(baseline_errors), 2))"
   ]
  },
  {
   "cell_type": "code",
   "execution_count": 11,
   "metadata": {},
   "outputs": [],
   "source": [
    "#Import the Random Forest Model\n",
    "from sklearn.ensemble import RandomForestRegressor"
   ]
  },
  {
   "cell_type": "code",
   "execution_count": 12,
   "metadata": {},
   "outputs": [],
   "source": [
    "#Instantiate model with 1,000 decision trees\n",
    "rf = RandomForestRegressor(n_estimators=1000, random_state = 42)\n",
    "#Train the model on training data\n",
    "rf.fit(train_features, train_labels);"
   ]
  },
  {
   "cell_type": "code",
   "execution_count": 13,
   "metadata": {},
   "outputs": [
    {
     "name": "stdout",
     "output_type": "stream",
     "text": [
      "Mean Absolute Error: 0.32\n"
     ]
    }
   ],
   "source": [
    "# Use the forest's predict method on the test data\n",
    "predictions = rf.predict(test_features)\n",
    "#Calculate the absolute errors \n",
    "errors = abs(predictions - test_labels)\n",
    "#Print out the mean absolute error(mae)\n",
    "print (\"Mean Absolute Error:\", round(np.mean(errors), 2))"
   ]
  },
  {
   "cell_type": "code",
   "execution_count": 14,
   "metadata": {},
   "outputs": [
    {
     "name": "stdout",
     "output_type": "stream",
     "text": [
      "Accuracy: 93.79 %\n"
     ]
    }
   ],
   "source": [
    "#Calculate mean absolute percentage error (MAPE)\n",
    "mape = 100 * (errors / test_labels)\n",
    "#Calculate and display accuracy\n",
    "accuracy = 100 - np.mean(mape)\n",
    "print('Accuracy:', round(accuracy, 2), \"%\")"
   ]
  },
  {
   "cell_type": "code",
   "execution_count": 15,
   "metadata": {},
   "outputs": [],
   "source": [
    "# Import tools needed for visualization\n",
    "from sklearn.tree import export_graphviz\n",
    "import pydot"
   ]
  },
  {
   "cell_type": "code",
   "execution_count": 16,
   "metadata": {},
   "outputs": [],
   "source": [
    "#Pull out one tree from the forest\n",
    "tree = rf.estimators_[5]\n",
    "#Export the image to a dot file\n",
    "export_graphviz(tree, out_file = 'tree.dot', feature_names = feature_list, rounded = True, precision = 1)\n",
    "#Use dot file to create a graph\n",
    "(graph, ) = pydot.graph_from_dot_file('tree.dot')\n",
    "#Write the graph to a png file\n",
    "graph.write_png('tree.png')"
   ]
  },
  {
   "cell_type": "code",
   "execution_count": 17,
   "metadata": {},
   "outputs": [
    {
     "data": {
      "text/plain": [
       "RandomForestRegressor(bootstrap=True, criterion='mse', max_depth=3,\n",
       "                      max_features='auto', max_leaf_nodes=None,\n",
       "                      min_impurity_decrease=0.0, min_impurity_split=None,\n",
       "                      min_samples_leaf=1, min_samples_split=2,\n",
       "                      min_weight_fraction_leaf=0.0, n_estimators=10,\n",
       "                      n_jobs=None, oob_score=False, random_state=None,\n",
       "                      verbose=0, warm_start=False)"
      ]
     },
     "execution_count": 17,
     "metadata": {},
     "output_type": "execute_result"
    }
   ],
   "source": [
    "# Limit depth of tree to 3 levels\n",
    "rf_small = RandomForestRegressor(n_estimators=10, max_depth = 3)\n",
    "rf_small.fit(train_features, train_labels)"
   ]
  },
  {
   "cell_type": "code",
   "execution_count": 18,
   "metadata": {},
   "outputs": [],
   "source": [
    "#Extract the Small Tree\n",
    "tree_small = rf_small.estimators_[5]"
   ]
  },
  {
   "cell_type": "code",
   "execution_count": 19,
   "metadata": {},
   "outputs": [],
   "source": [
    "#Save the Small tree as a png image\n",
    "export_graphviz(tree_small, out_file = 'small_tree.dot', feature_names = feature_list, rounded = True, precision = 1)\n",
    "#Use dot file to create a graph\n",
    "(graph, ) = pydot.graph_from_dot_file('small_tree.dot')\n",
    "#Write the graph to a png file\n",
    "graph.write_png('small_tree.png')"
   ]
  },
  {
   "cell_type": "code",
   "execution_count": 20,
   "metadata": {},
   "outputs": [
    {
     "name": "stdout",
     "output_type": "stream",
     "text": [
      "Variable: Health               Importance: 0.62\n",
      "Variable: GDP                  Importance: 0.13\n",
      "Variable: Support              Importance: 0.1\n",
      "Variable: Generosity           Importance: 0.06\n",
      "Variable: Freedom              Importance: 0.05\n",
      "Variable: Corruption           Importance: 0.05\n"
     ]
    }
   ],
   "source": [
    "#Get numerical features importances\n",
    "importances = list(rf.feature_importances_)\n",
    "#List of Tuples with vaiable and importances\n",
    "feature_importances = [(feature, round(importance, 2)) for feature, importance in zip (feature_list, importances)]\n",
    "#Sort the feature importances by most important first\n",
    "feature_importances = sorted(feature_importances, key = lambda x: x[1], reverse = True)\n",
    "#Print out the feature and importances\n",
    "[print('Variable: {:20} Importance: {}'.format(*pair)) for pair in feature_importances];"
   ]
  },
  {
   "cell_type": "code",
   "execution_count": 21,
   "metadata": {},
   "outputs": [
    {
     "data": {
      "text/plain": [
       "RandomForestRegressor(bootstrap=True, criterion='mse', max_depth=None,\n",
       "                      max_features='auto', max_leaf_nodes=None,\n",
       "                      min_impurity_decrease=0.0, min_impurity_split=None,\n",
       "                      min_samples_leaf=1, min_samples_split=2,\n",
       "                      min_weight_fraction_leaf=0.0, n_estimators=1000,\n",
       "                      n_jobs=None, oob_score=False, random_state=42, verbose=0,\n",
       "                      warm_start=False)"
      ]
     },
     "execution_count": 21,
     "metadata": {},
     "output_type": "execute_result"
    }
   ],
   "source": [
    "#New random forest with only the three most important variables\n",
    "rf_most_important = RandomForestRegressor(n_estimators= 1000, random_state=42)\n",
    "#Extract the two most important features\n",
    "important_indices = [feature_list.index('Health'), feature_list.index('GDP'), feature_list.index('Support')]\n",
    "train_important = train_features[:, important_indices]\n",
    "test_important = test_features[:, important_indices]\n",
    "#Train the Random Forest\n",
    "rf_most_important.fit(train_important, train_labels)"
   ]
  },
  {
   "cell_type": "code",
   "execution_count": 22,
   "metadata": {},
   "outputs": [],
   "source": [
    "#Make predictions and determine the error\n",
    "predictions = rf_most_important.predict(test_important)\n",
    "errors = abs(predictions - test_labels)"
   ]
  },
  {
   "cell_type": "code",
   "execution_count": 23,
   "metadata": {},
   "outputs": [
    {
     "name": "stdout",
     "output_type": "stream",
     "text": [
      "Mean Absolute Error: 0.36 degrees.\n",
      "Accuracy: 93.11 %.\n"
     ]
    }
   ],
   "source": [
    "#Display the performance metrics\n",
    "print('Mean Absolute Error:', round(np.mean(errors), 2), 'degrees.')\n",
    "mape = np.mean(100* (errors/test_labels))\n",
    "accuracy = 100 - mape\n",
    "print('Accuracy:', round(accuracy, 2), '%.')"
   ]
  },
  {
   "cell_type": "code",
   "execution_count": 24,
   "metadata": {},
   "outputs": [],
   "source": [
    "def rfr_model(train_features, train_labels):\n",
    "    gsc = GridSearchCV(\n",
    "    estimator=RandomForestRegressor(),\n",
    "    param_grid={\n",
    "        'max_depth':range(3,7),\n",
    "        'n_estimators': (10, 50, 100, 1000),\n",
    "    }, \n",
    "    cv=5, scoring='neg_mean_squared_error', verbose=0,n_jobs=-1)\n",
    "    \n",
    "    grid_result = gsc.fit(train_features, train_labels) \n",
    "    best_params = grid_result.best_params_\n",
    "    \n",
    "    rfr = RandomForestRegressor(max_depth=best_params[\"max_depth\"], n_estimators=best_params[\"n_estimators\"], random_state=False, verbose=False)\n",
    "    scores = cross_val_score(rfr, train_features, train_labels, cv=10, scoring='neg_mean_absolute_error')\n",
    "    \n",
    "    return scores\n",
    "    return best_params\n",
    "    return best_params_"
   ]
  },
  {
   "cell_type": "code",
   "execution_count": 25,
   "metadata": {},
   "outputs": [
    {
     "name": "stdout",
     "output_type": "stream",
     "text": [
      "Train:  0.9155197003412583\n",
      "Test:  0.8494146042302461\n",
      "Feature Importance:  [0.26934542 0.20853437 0.32952132 0.08659843 0.04160739 0.06439307]\n"
     ]
    }
   ],
   "source": [
    "best = {'bootstrap': True,\n",
    " 'max_depth': 8,\n",
    " 'max_features': 'sqrt',\n",
    " 'min_samples_leaf': 1,\n",
    " 'min_samples_split': 2,\n",
    " 'n_estimators': 500}\n",
    "regressor = RandomForestRegressor(**best, random_state=42)\n",
    "regressor.fit(train_features, train_labels)\n",
    "print(\"Train: \", regressor.score(train_features, train_labels))\n",
    "print(\"Test: \", regressor.score(test_features, test_labels))\n",
    "print(\"Feature Importance: \", regressor.feature_importances_)"
   ]
  },
  {
   "cell_type": "code",
   "execution_count": 26,
   "metadata": {},
   "outputs": [],
   "source": [
    "#Import matplotlib for plotting and use magic command for Jupyter Notebook\n",
    "import matplotlib.pyplot as plt\n",
    "%matplotlib inline"
   ]
  },
  {
   "cell_type": "code",
   "execution_count": 27,
   "metadata": {},
   "outputs": [
    {
     "data": {
      "image/png": "[encoded data removed]",
      "text/plain": [
       "<Figure size 432x288 with 1 Axes>"
      ]
     },
     "metadata": {},
     "output_type": "display_data"
    }
   ],
   "source": [
    "#Set the style\n",
    "plt.style.use('fivethirtyeight')\n",
    "#List of X locations for plotting\n",
    "x_values= list(range(len(importances)))\n",
    "#Make a bar chart\n",
    "plt.bar(x_values, importances, orientation = 'vertical')\n",
    "#Tick labels for X axis\n",
    "plt.xticks(x_values, feature_list, rotation = 'vertical')\n",
    "#Axis labels and titles\n",
    "plt.ylabel('Importance'); plt.xlabel('Variable');\n",
    "plt.title('Variable Importances');"
   ]
  },
  {
   "cell_type": "code",
   "execution_count": 28,
   "metadata": {},
   "outputs": [],
   "source": [
    "from sklearn.model_selection import cross_val_score, GridSearchCV\n",
    "from sklearn.ensemble import RandomForestRegressor\n",
    "from sklearn.preprocessing import MinMaxScaler"
   ]
  },
  {
   "cell_type": "code",
   "execution_count": 29,
   "metadata": {},
   "outputs": [
    {
     "name": "stdout",
     "output_type": "stream",
     "text": [
      "The shape of our features is: (1220, 6)\n"
     ]
    }
   ],
   "source": [
    "print ('The shape of our features is:', train_features.shape)"
   ]
  },
  {
   "cell_type": "code",
   "execution_count": 30,
   "metadata": {},
   "outputs": [
    {
     "name": "stdout",
     "output_type": "stream",
     "text": [
      "The shape of our features is: (1220,)\n"
     ]
    }
   ],
   "source": [
    "print ('The shape of our features is:', train_labels.shape)"
   ]
  },
  {
   "cell_type": "code",
   "execution_count": 31,
   "metadata": {},
   "outputs": [
    {
     "name": "stdout",
     "output_type": "stream",
     "text": [
      "The shape of our features is: (407, 6)\n"
     ]
    }
   ],
   "source": [
    "print ('The shape of our features is:', test_features.shape)"
   ]
  },
  {
   "cell_type": "code",
   "execution_count": 32,
   "metadata": {},
   "outputs": [
    {
     "name": "stdout",
     "output_type": "stream",
     "text": [
      "The shape of our features is: (407,)\n"
     ]
    }
   ],
   "source": [
    "print ('The shape of our features is:', test_labels.shape)"
   ]
  },
  {
   "cell_type": "code",
   "execution_count": 33,
   "metadata": {},
   "outputs": [
    {
     "ename": "TypeError",
     "evalue": "set_xticklabels() missing 1 required positional argument: 'labels'",
     "output_type": "error",
     "traceback": [
      "\u001b[1;31m---------------------------------------------------------------------------\u001b[0m",
      "\u001b[1;31mTypeError\u001b[0m                                 Traceback (most recent call last)",
      "\u001b[1;32m<ipython-input-33-323becfb4368>\u001b[0m in \u001b[0;36m<module>\u001b[1;34m\u001b[0m\n\u001b[0;32m     15\u001b[0m \u001b[0mplt\u001b[0m\u001b[1;33m.\u001b[0m\u001b[0mxlabel\u001b[0m\u001b[1;33m(\u001b[0m\u001b[1;34m'Features'\u001b[0m\u001b[1;33m)\u001b[0m\u001b[1;33m\u001b[0m\u001b[1;33m\u001b[0m\u001b[0m\n\u001b[0;32m     16\u001b[0m \u001b[0mplt\u001b[0m\u001b[1;33m.\u001b[0m\u001b[0mylabel\u001b[0m\u001b[1;33m(\u001b[0m\u001b[1;34m'Happiness Index'\u001b[0m\u001b[1;33m)\u001b[0m\u001b[1;33m\u001b[0m\u001b[1;33m\u001b[0m\u001b[0m\n\u001b[1;32m---> 17\u001b[1;33m \u001b[0max\u001b[0m\u001b[1;33m.\u001b[0m\u001b[0mset_xticklabels\u001b[0m\u001b[1;33m(\u001b[0m \u001b[0mfontsize\u001b[0m\u001b[1;33m=\u001b[0m\u001b[1;36m18\u001b[0m\u001b[1;33m)\u001b[0m\u001b[1;33m\u001b[0m\u001b[1;33m\u001b[0m\u001b[0m\n\u001b[0m\u001b[0;32m     18\u001b[0m \u001b[1;31m##below lables are generated with the csv\u001b[0m\u001b[1;33m\u001b[0m\u001b[1;33m\u001b[0m\u001b[1;33m\u001b[0m\u001b[0m\n\u001b[0;32m     19\u001b[0m \u001b[1;33m\u001b[0m\u001b[0m\n",
      "\u001b[1;31mTypeError\u001b[0m: set_xticklabels() missing 1 required positional argument: 'labels'"
     ]
    },
    {
     "data": {
      "image/png": "[encoded data removed]",
      "text/plain": [
       "<Figure size 720x288 with 1 Axes>"
      ]
     },
     "metadata": {},
     "output_type": "display_data"
    }
   ],
   "source": [
    "import matplotlib.pyplot as plt\n",
    "import pandas as pd\n",
    "import matplotlib\n",
    "fig, ax = plt.subplots(figsize=(10, 4))\n",
    "\n",
    "## Showcase the gdp index \n",
    "x_values = list(range(len(importances)))\n",
    "## showcase the health \n",
    "y_values = importances \n",
    "more_values = feature_list\n",
    "## Ladder\n",
    "plt.scatter (more_values,y_values, color = 'g' )\n",
    "plt.scatter(more_values, x_values, color='r')\n",
    "##plt.scatter(grades_range, boys_grades, color='g')\n",
    "plt.xlabel('Features')\n",
    "plt.ylabel('Happiness Index')\n",
    "ax.set_xticklabels( fontsize=18)\n",
    "##below lables are generated with the csv\n",
    "\n",
    "\n",
    "##axes.set_x_values(rotation = (45), fontsize = 10, va='bottom', ha='left')\n",
    "\n",
    "plt.show()"
   ]
  }
 ],
 "metadata": {
  "kernelspec": {
   "display_name": "Python 3",
   "language": "python",
   "name": "python3"
  },
  "language_info": {
   "codemirror_mode": {
    "name": "ipython",
    "version": 3
   },
   "file_extension": ".py",
   "mimetype": "text/x-python",
   "name": "python",
   "nbconvert_exporter": "python",
   "pygments_lexer": "ipython3",
   "version": "3.7.4"
  }
 },
 "nbformat": 4,
 "nbformat_minor": 2
}
